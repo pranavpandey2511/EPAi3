{
 "cells": [
  {
   "cell_type": "code",
   "execution_count": 6,
   "metadata": {},
   "outputs": [],
   "source": [
    "from Session_14 import get_employment_info, get_personal_info, get_vehicle_info, get_update_info, get_complete_info, get_current_records, get_popular_car\n",
    "from itertools import islice"
   ]
  },
  {
   "cell_type": "markdown",
   "metadata": {},
   "source": [
    "## Goal 1"
   ]
  },
  {
   "cell_type": "code",
   "execution_count": 2,
   "metadata": {},
   "outputs": [
    {
     "data": {
      "text/plain": [
       "[personal_info(ssn='100-53-9824', first_name='Sebastiano', last_name='Tester', gender='Male', language='Icelandic'),\n",
       " personal_info(ssn='101-71-4702', first_name='Cayla', last_name='MacDonagh', gender='Female', language='Lao'),\n",
       " personal_info(ssn='101-84-0356', first_name='Nomi', last_name='Lipprose', gender='Female', language='Yiddish'),\n",
       " personal_info(ssn='104-22-0928', first_name='Justinian', last_name='Kunzelmann', gender='Male', language='Dhivehi'),\n",
       " personal_info(ssn='104-84-7144', first_name='Claudianus', last_name='Brixey', gender='Male', language='Afrikaans')]"
      ]
     },
     "execution_count": 2,
     "metadata": {},
     "output_type": "execute_result"
    }
   ],
   "source": [
    "personal_info = get_personal_info()\n",
    "list(islice(personal_info, 0, 5))\n"
   ]
  },
  {
   "cell_type": "code",
   "execution_count": 3,
   "metadata": {},
   "outputs": [
    {
     "data": {
      "text/plain": [
       "[employment_info(employer='Stiedemann-Bailey', department='Research and Development', employee_id='29-0890771', ssn='100-53-9824'),\n",
       " employment_info(employer='Nicolas and Sons', department='Sales', employee_id='41-6841359', ssn='101-71-4702'),\n",
       " employment_info(employer='Connelly Group', department='Research and Development', employee_id='98-7952860', ssn='101-84-0356'),\n",
       " employment_info(employer='Upton LLC', department='Marketing', employee_id='56-9817552', ssn='104-22-0928'),\n",
       " employment_info(employer='Zemlak-Olson', department='Business Development', employee_id='46-2886707', ssn='104-84-7144')]"
      ]
     },
     "execution_count": 3,
     "metadata": {},
     "output_type": "execute_result"
    }
   ],
   "source": [
    "employment_info = get_employment_info()\n",
    "list(islice(employment_info, 0, 5))"
   ]
  },
  {
   "cell_type": "code",
   "execution_count": 4,
   "metadata": {},
   "outputs": [
    {
     "data": {
      "text/plain": [
       "[vehicle_info(ssn='100-53-9824', vehicle_make='Oldsmobile', vehicle_model='Bravada', model_year=1993),\n",
       " vehicle_info(ssn='101-71-4702', vehicle_make='Ford', vehicle_model='Mustang', model_year=1997),\n",
       " vehicle_info(ssn='101-84-0356', vehicle_make='GMC', vehicle_model='Yukon', model_year=2005),\n",
       " vehicle_info(ssn='104-22-0928', vehicle_make='Oldsmobile', vehicle_model='Intrigue', model_year=2000),\n",
       " vehicle_info(ssn='104-84-7144', vehicle_make='Ford', vehicle_model='Crown Victoria', model_year=2008)]"
      ]
     },
     "execution_count": 4,
     "metadata": {},
     "output_type": "execute_result"
    }
   ],
   "source": [
    "vehicle_info = get_vehicle_info()\n",
    "list(islice(vehicle_info, 0, 5))"
   ]
  },
  {
   "cell_type": "code",
   "execution_count": 5,
   "metadata": {},
   "outputs": [
    {
     "data": {
      "text/plain": [
       "[update_info(ssn='100-53-9824', last_updated=datetime.datetime(2017, 10, 7, 0, 0), created=datetime.datetime(2016, 1, 24, 0, 0)),\n",
       " update_info(ssn='101-71-4702', last_updated=datetime.datetime(2017, 1, 23, 0, 0), created=datetime.datetime(2016, 1, 27, 0, 0)),\n",
       " update_info(ssn='101-84-0356', last_updated=datetime.datetime(2017, 10, 4, 0, 0), created=datetime.datetime(2016, 9, 21, 0, 0)),\n",
       " update_info(ssn='104-22-0928', last_updated=datetime.datetime(2017, 3, 28, 0, 0), created=datetime.datetime(2016, 4, 15, 0, 0)),\n",
       " update_info(ssn='104-84-7144', last_updated=datetime.datetime(2018, 2, 19, 0, 0), created=datetime.datetime(2016, 3, 15, 0, 0))]"
      ]
     },
     "execution_count": 5,
     "metadata": {},
     "output_type": "execute_result"
    }
   ],
   "source": [
    "update_info = get_update_info()\n",
    "list(islice(update_info, 0, 5))"
   ]
  },
  {
   "cell_type": "markdown",
   "metadata": {},
   "source": [
    "## Goal 2"
   ]
  },
  {
   "cell_type": "code",
   "execution_count": 9,
   "metadata": {},
   "outputs": [
    {
     "data": {
      "text/plain": [
       "[complete_info(ssn='100-53-9824', first_name='Sebastiano', last_name='Tester', gender='Male', language='Icelandic', employer='Stiedemann-Bailey', department='Research and Development', employee_id='29-0890771', vehicle_make='Oldsmobile', vehicle_model='Bravada', model_year=1993, last_updated=datetime.datetime(2017, 10, 7, 0, 0), created=datetime.datetime(2016, 1, 24, 0, 0))]"
      ]
     },
     "execution_count": 9,
     "metadata": {},
     "output_type": "execute_result"
    }
   ],
   "source": [
    "complete_info = get_complete_info()\n",
    "list(islice(complete_info, 0, 1))"
   ]
  },
  {
   "cell_type": "markdown",
   "metadata": {},
   "source": [
    "## Goal 3"
   ]
  },
  {
   "cell_type": "code",
   "execution_count": 15,
   "metadata": {},
   "outputs": [
    {
     "name": "stdout",
     "output_type": "stream",
     "text": [
      "Current Records: 871\n",
      "Total Records: 1000\n"
     ]
    }
   ],
   "source": [
    "current_records = get_current_records('03/01/2017')\n",
    "complete_info = get_complete_info()\n",
    "print(f\"Current Records: {len(list(current_records))}\")\n",
    "print(f\"Total Records: {len(list(complete_info))}\")\n"
   ]
  },
  {
   "cell_type": "markdown",
   "metadata": {},
   "source": [
    "## Goal 4"
   ]
  },
  {
   "cell_type": "code",
   "execution_count": 16,
   "metadata": {},
   "outputs": [
    {
     "data": {
      "text/plain": [
       "('Ford', 43)"
      ]
     },
     "execution_count": 16,
     "metadata": {},
     "output_type": "execute_result"
    }
   ],
   "source": [
    "get_popular_car(\"Male\")"
   ]
  },
  {
   "cell_type": "code",
   "execution_count": 17,
   "metadata": {},
   "outputs": [
    {
     "data": {
      "text/plain": [
       "('Ford', 47)"
      ]
     },
     "execution_count": 17,
     "metadata": {},
     "output_type": "execute_result"
    }
   ],
   "source": [
    "get_popular_car(\"Female\")"
   ]
  },
  {
   "cell_type": "code",
   "execution_count": null,
   "metadata": {},
   "outputs": [],
   "source": []
  },
  {
   "cell_type": "code",
   "execution_count": null,
   "metadata": {},
   "outputs": [],
   "source": []
  }
 ],
 "metadata": {
  "interpreter": {
   "hash": "dbabb6a43022d7782a4a564416e665f261d820b3b34d43f644498d71e3fe1988"
  },
  "kernelspec": {
   "display_name": "Python 3.9.5 64-bit ('pytorch': conda)",
   "name": "python3"
  },
  "language_info": {
   "codemirror_mode": {
    "name": "ipython",
    "version": 3
   },
   "file_extension": ".py",
   "mimetype": "text/x-python",
   "name": "python",
   "nbconvert_exporter": "python",
   "pygments_lexer": "ipython3",
   "version": "3.9.5"
  },
  "orig_nbformat": 4
 },
 "nbformat": 4,
 "nbformat_minor": 2
}